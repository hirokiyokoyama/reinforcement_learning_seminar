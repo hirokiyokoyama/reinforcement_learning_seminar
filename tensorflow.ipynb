{
 "cells": [
  {
   "cell_type": "markdown",
   "metadata": {},
   "source": [
    "# TensorFlow"
   ]
  },
  {
   "cell_type": "code",
   "execution_count": 2,
   "metadata": {
    "collapsed": true
   },
   "outputs": [],
   "source": [
    "import tensorflow as tf"
   ]
  },
  {
   "cell_type": "markdown",
   "metadata": {},
   "source": [
    "## グラフの作成\n",
    "グラフとは，様々な演算によって得られるテンソル（配列）どうしの関係を有向グラフとして記述したもの．\n",
    "例えば，テンソルCはテンソルAとテンソルBの和で，テンソルDはテンソルCを2倍したもの，などが表現される．\n",
    "TensorFlowは計算過程を一度グラフという形で記述することで，自動微分などを可能としている．\n",
    "基本的にグラフの構造を意識しなくても，テンソルをnumpy配列のように扱うことで生成できる．\n",
    "しかし，この過程で実際にテンソルの値が計算されるのではないことに注意．"
   ]
  },
  {
   "cell_type": "code",
   "execution_count": 15,
   "metadata": {
    "collapsed": true
   },
   "outputs": [],
   "source": [
    "graph = tf.Graph()\n",
    "with graph.as_default():\n",
    "    a = tf.constant(1)\n",
    "    b = tf.constant(2)\n",
    "    c = a + b\n",
    "    d = 2 * c"
   ]
  },
  {
   "cell_type": "markdown",
   "metadata": {},
   "source": [
    "## セッションの作成\n",
    "グラフに記述された演算はセッションの中で実行される．\n",
    "セッションを生成し，演算を実行する時に，必要に応じてメモリが確保される．\n",
    "セッションをクローズするとメモリは解放される．"
   ]
  },
  {
   "cell_type": "code",
   "execution_count": 29,
   "metadata": {
    "collapsed": false
   },
   "outputs": [
    {
     "name": "stdout",
     "output_type": "stream",
     "text": [
      "a = 1\n",
      "b = 2\n",
      "[c, d] = [3, 6]\n",
      "d|_{a=5} = 14\n"
     ]
    }
   ],
   "source": [
    "sess = tf.Session(graph=graph)\n",
    "print('a = {}'.format(sess.run(a)))\n",
    "print('b = {}'.format(sess.run(b)))\n",
    "print('[c, d] = {}'.format(sess.run([c, d])))\n",
    "# グラフの要素に値をフィード（この場合，aを5で上書き）することができる\n",
    "print('d|_{{a=5}} = {}'.format(sess.run(d, {a: 5})))"
   ]
  },
  {
   "cell_type": "markdown",
   "metadata": {
    "collapsed": true
   },
   "source": [
    "## グラフの要素\n",
    "下記の要素を定義したり，それらの四則演算などで新たな要素を定義することでグラフを構築して行く．\n",
    "これらの要素（テンソル）は，上記のように評価することも値をフィードすることもできる．"
   ]
  },
  {
   "cell_type": "code",
   "execution_count": 38,
   "metadata": {
    "collapsed": false
   },
   "outputs": [
    {
     "name": "stdout",
     "output_type": "stream",
     "text": [
      "c = [1. 2. 3.]\n",
      "x = [10.  4.]\n",
      "v = 1.0\n",
      "v = 4.0\n"
     ]
    }
   ],
   "source": [
    "graph = tf.Graph()\n",
    "sess = tf.Session(graph=graph)\n",
    "\n",
    "# 定数：評価すると常に同じ値を返す．\n",
    "with graph.as_default():\n",
    "    c = tf.constant([1,2,3], dtype=tf.float32)\n",
    "print('c = {}'.format(sess.run(c)))\n",
    "\n",
    "# プレースホルダ：値がフィードされることを前提とする要素．\n",
    "with graph.as_default():\n",
    "    ph = tf.placeholder(tf.float32)                       # 型がfloat32ならばなんでも良い\n",
    "    ph_2d = tf.placeholder(tf.float32, shape=[None,None]) # 任意のサイズの二次元配列\n",
    "    ph_3x3 = tf.placeholder(tf.float32, shape=[3,3])      # 3x3の二次元配列\n",
    "    x = 2 * ph\n",
    "print('x = {}'.format(sess.run(x, {ph: [5,2]})))          # xはphにフィードしないと評価できない\n",
    "    \n",
    "# 変数：値を代入することができ，評価すると現在代入されている値を返す．\n",
    "with graph.as_default():\n",
    "    v = tf.Variable(1.0)    # 1.0は初期値\n",
    "    assign_op = v.assign(x) # 評価するとvにxを代入する\n",
    "sess.run(v.initializer)     # vを初期化する\n",
    "print('v = {}'.format(sess.run(v)))\n",
    "sess.run(assign_op, {ph: 2.})  # vにxを代入する（ここでもphへのフィードが必要）\n",
    "print('v = {}'.format(sess.run(v)))"
   ]
  },
  {
   "cell_type": "markdown",
   "metadata": {},
   "source": [
    "## 関数の最小化\n",
    "このように一度グラフを定義するというスタイルによって，自動微分が可能となっているところがTensorFlowの大きな特徴である．\n",
    "次のセルを実行してvを初期化した後，その次のセルを繰り返し実行するとEを最小化するvを求めることができる．"
   ]
  },
  {
   "cell_type": "code",
   "execution_count": 57,
   "metadata": {
    "collapsed": false
   },
   "outputs": [],
   "source": [
    "graph = tf.Graph()\n",
    "with graph.as_default():\n",
    "    v = tf.Variable(1.0)\n",
    "    E = 3*v**2 + 2*v + 4\n",
    "    \n",
    "    opt = tf.train.GradientDescentOptimizer(learning_rate = 0.01)\n",
    "    init_op = v.initializer\n",
    "    update_op = opt.minimize(E) # 評価するとEをvについて最小化するための更新を一回行う\n",
    "    \n",
    "sess = tf.Session(graph=graph)\n",
    "sess.run(init_op)"
   ]
  },
  {
   "cell_type": "code",
   "execution_count": 86,
   "metadata": {
    "collapsed": false
   },
   "outputs": [
    {
     "data": {
      "image/png": "[encoded data removed]",
      "text/plain": [
       "<Figure size 432x288 with 1 Axes>"
      ]
     },
     "metadata": {
      "needs_background": "light"
     },
     "output_type": "display_data"
    }
   ],
   "source": [
    "import numpy as np\n",
    "import matplotlib.pyplot as plt\n",
    "\n",
    "sess.run(update_op)\n",
    "_v, _E = sess.run([v, E])\n",
    "\n",
    "plt.figure()\n",
    "x = np.linspace(-3,3,100)\n",
    "y = 3*x**2 + 2*x + 4\n",
    "plt.plot(x, y)\n",
    "\n",
    "plt.plot(_v, _E, 'ro')\n",
    "plt.text(_v+.2, _E, 'v = {:.3f}'.format(_v))\n",
    "plt.xlabel('v')\n",
    "plt.ylabel('E')\n",
    "plt.show()"
   ]
  },
  {
   "cell_type": "code",
   "execution_count": null,
   "metadata": {
    "collapsed": true
   },
   "outputs": [],
   "source": []
  }
 ],
 "metadata": {
  "kernelspec": {
   "display_name": "Python 3",
   "language": "python",
   "name": "python3"
  },
  "language_info": {
   "codemirror_mode": {
    "name": "ipython",
    "version": 3
   },
   "file_extension": ".py",
   "mimetype": "text/x-python",
   "name": "python",
   "nbconvert_exporter": "python",
   "pygments_lexer": "ipython3",
   "version": "3.6.5"
  }
 },
 "nbformat": 4,
 "nbformat_minor": 2
}
